{
  "nbformat": 4,
  "nbformat_minor": 0,
  "metadata": {
    "colab": {
      "name": "lab11.ipynb",
      "provenance": [],
      "collapsed_sections": []
    },
    "kernelspec": {
      "name": "python3",
      "display_name": "Python 3"
    }
  },
  "cells": [
    {
      "cell_type": "markdown",
      "metadata": {
        "id": "KlPF7dfWj4LN"
      },
      "source": [
        "#Laboratorio 11\r\n",
        "##A – Ehab, subset sum and Eight queens problems."
      ]
    },
    {
      "cell_type": "code",
      "metadata": {
        "id": "-sp52ohMBsTJ"
      },
      "source": [
        "import os\r\n",
        "import time\r\n",
        "x = int(input('Elija un numero entre 1 y 100\\n'))\r\n",
        "if 100<x or x<1:\r\n",
        "  print(\"El numero seleccionado está fuera del rango especificado.\")\r\n",
        "  time.sleep(5)\r\n",
        "  os._exit(0)\r\n",
        "for i in range(1,x+1):\r\n",
        "  for j in range(i,x+1):\r\n",
        "    if ((j/i)%1)==0 and (i*j)>x and (i/j)<x:\r\n",
        "      print(str(j) + ' ' + str(i))\r\n",
        "      time.sleep(1)\r\n",
        "      os._exit(0)\r\n",
        "print(-1)"
      ],
      "execution_count": null,
      "outputs": []
    },
    {
      "cell_type": "code",
      "metadata": {
        "colab": {
          "base_uri": "https://localhost:8080/"
        },
        "id": "SZdANT7nuo99",
        "outputId": "4b45529b-bdfb-4102-8185-338755ffb010"
      },
      "source": [
        "import os\r\n",
        "import time\r\n",
        "x = int(input('Elija un numero entre 1 y 100\\n'))\r\n",
        "if 100<x or x<1:\r\n",
        "  print(\"El numero seleccionado está fuera del rango especificado.\")\r\n",
        "  time.sleep(5)\r\n",
        "  os._exit(0)\r\n",
        "for i in range(1,x+1):\r\n",
        "  for j in range(i,x+1):\r\n",
        "    if ((j/i)%1)==0 and (i*j)>x and (i/j)<x:\r\n",
        "      print(str(j) + ' ' + str(i))\r\n",
        "      time.sleep(1)\r\n",
        "      os._exit(0)\r\n",
        "print(-1)"
      ],
      "execution_count": null,
      "outputs": [
        {
          "output_type": "stream",
          "text": [
            "Elija un numero entre 1 y 100\n",
            "100\n",
            "52 2\n"
          ],
          "name": "stdout"
        }
      ]
    },
    {
      "cell_type": "code",
      "metadata": {
        "colab": {
          "base_uri": "https://localhost:8080/",
          "height": 367
        },
        "id": "SGdpJCsuAgbo",
        "outputId": "ab01a855-80cf-4ea1-acbb-237ffeafefef"
      },
      "source": [
        "import itertools\r\n",
        "\r\n",
        "from decorators import timeout\r\n",
        "\r\n",
        "\r\n",
        "@timeout(5 * 60)\r\n",
        "def bruteforce(x_list, target):\r\n",
        "    possiblities = []\r\n",
        "    for x in powerset(x_list):\r\n",
        "        possiblities.append((x, sum(x)))\r\n",
        "\r\n",
        "    x_list, actual_value = closest(possiblities, target)\r\n",
        "\r\n",
        "    return (actual_value, x_list)\r\n",
        "\r\n",
        "\r\n",
        "def powerset(iterable):\r\n",
        "    '''powerset([1,2,3]) --> () (1,) (2,) (3,) (1,2) (1,3) (2,3) (1,2,3)\r\n",
        "    http://docs.python.org/library/itertools.html#recipes\r\n",
        "    '''\r\n",
        "    s = list(iterable)\r\n",
        "    return itertools.chain.from_iterable(itertools.combinations(s, r) for r in range(len(s) + 1))\r\n",
        "\r\n",
        "\r\n",
        "def closest(possiblities, target):\r\n",
        "    '''Modified from http://stackoverflow.com/questions/445782/finding-closest-match-in-collection-of-numbers/445824#445824'''\r\n",
        "    return min((abs(target - total), (o_list, total))\r\n",
        "               for o_list, total in possiblities)[1]"
      ],
      "execution_count": null,
      "outputs": [
        {
          "output_type": "error",
          "ename": "ModuleNotFoundError",
          "evalue": "ignored",
          "traceback": [
            "\u001b[0;31m---------------------------------------------------------------------------\u001b[0m",
            "\u001b[0;31mModuleNotFoundError\u001b[0m                       Traceback (most recent call last)",
            "\u001b[0;32m<ipython-input-1-c162da94b63a>\u001b[0m in \u001b[0;36m<module>\u001b[0;34m()\u001b[0m\n\u001b[1;32m      1\u001b[0m \u001b[0;32mimport\u001b[0m \u001b[0mitertools\u001b[0m\u001b[0;34m\u001b[0m\u001b[0;34m\u001b[0m\u001b[0m\n\u001b[1;32m      2\u001b[0m \u001b[0;34m\u001b[0m\u001b[0m\n\u001b[0;32m----> 3\u001b[0;31m \u001b[0;32mfrom\u001b[0m \u001b[0mdecorators\u001b[0m \u001b[0;32mimport\u001b[0m \u001b[0mtimeout\u001b[0m\u001b[0;34m\u001b[0m\u001b[0;34m\u001b[0m\u001b[0m\n\u001b[0m\u001b[1;32m      4\u001b[0m \u001b[0;34m\u001b[0m\u001b[0m\n\u001b[1;32m      5\u001b[0m \u001b[0;34m\u001b[0m\u001b[0m\n",
            "\u001b[0;31mModuleNotFoundError\u001b[0m: No module named 'decorators'",
            "",
            "\u001b[0;31m---------------------------------------------------------------------------\u001b[0;32m\nNOTE: If your import is failing due to a missing package, you can\nmanually install dependencies using either !pip or !apt.\n\nTo view examples of installing some common dependencies, click the\n\"Open Examples\" button below.\n\u001b[0;31m---------------------------------------------------------------------------\u001b[0m\n"
          ]
        }
      ]
    }
  ]
}